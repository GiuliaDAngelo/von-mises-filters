{
 "cells": [
  {
   "cell_type": "code",
   "execution_count": null,
   "metadata": {},
   "outputs": [],
   "source": [
    "import sinabs\n",
    "import sinabs.layers as sl\n",
    "import torch\n",
    "import torch.nn as nn\n",
    "import numpy as np\n",
    "import tonic\n",
    "import matplotlib.pyplot as plt\n",
    "import torchvision\n",
    "import numpy.lib.recfunctions as rf"
   ]
  },
  {
   "cell_type": "code",
   "execution_count": null,
   "metadata": {},
   "outputs": [],
   "source": [
    "# load all the filters and stack them to a 3d array of (filter number, width, height)\n",
    "\n",
    "filters = []\n",
    "for i in range(0, 360, 45):\n",
    "    filters.append(np.load(f\"VMfilters/{i}_grad.npy\"))\n",
    "filters = torch.tensor(np.stack(filters).astype(np.float32))"
   ]
  },
  {
   "cell_type": "code",
   "execution_count": null,
   "metadata": {},
   "outputs": [],
   "source": [
    "fig, axes = plt.subplots(2, 4, figsize=(10, 5))\n",
    "\n",
    "for i in range(8):\n",
    "    if i < 4:\n",
    "        axes[0, i].imshow(filters[i])\n",
    "    else:\n",
    "        axes[1, i-4].imshow(filters[i])"
   ]
  },
  {
   "cell_type": "code",
   "execution_count": null,
   "metadata": {},
   "outputs": [],
   "source": [
    "# define our single layer network and load the filters\n",
    "net = nn.Sequential(\n",
    "    nn.Conv2d(1, filters.shape[0], filters.shape[1], bias=False),\n",
    "    sl.IAF()\n",
    ")\n",
    "net[0].weight.data = filters.unsqueeze(1)"
   ]
  },
  {
   "cell_type": "code",
   "execution_count": null,
   "metadata": {},
   "outputs": [],
   "source": [
    "# load the recording and convert it to a structured numpy array\n",
    "recording = np.load(\"twoobjects.npy\")\n",
    "recording[:, 3] *= 1e6 # convert time from seconds to microseconds\n",
    "rec = rf.unstructured_to_structured(recording, dtype=np.dtype([('x', np.int16), ('y', np.int16), ('p', bool), ('t', int)]))"
   ]
  },
  {
   "cell_type": "code",
   "execution_count": null,
   "metadata": {},
   "outputs": [],
   "source": [
    "# find out maximum x and y\n",
    "max_x = rec['x'].max().astype(int)\n",
    "max_y = rec['y'].max().astype(int)\n",
    "# only use a single polarity\n",
    "rec['p'] = 0\n",
    "sensor_size = (max_x+1, max_y+1, 1)\n",
    "print(f\"sensor size is {sensor_size}\")"
   ]
  },
  {
   "cell_type": "code",
   "execution_count": null,
   "metadata": {},
   "outputs": [],
   "source": [
    "# We have to convert the raw events into frames so that we can feed those to our network\n",
    "# We use a library called tonic for that https://tonic.readthedocs.io/en/latest/ as well as torchvision\n",
    "# We use a 20ms (20000us) time window to bin events into frames and crop the center of the frame\n",
    "transforms = torchvision.transforms.Compose([\n",
    "    tonic.transforms.ToFrame(sensor_size=sensor_size, time_window=20000),\n",
    "    torch.tensor,\n",
    "    torchvision.transforms.CenterCrop((300, 400)),\n",
    "])"
   ]
  },
  {
   "cell_type": "code",
   "execution_count": null,
   "metadata": {},
   "outputs": [],
   "source": [
    "frames = transforms(rec)"
   ]
  },
  {
   "cell_type": "code",
   "execution_count": null,
   "metadata": {},
   "outputs": [],
   "source": [
    "# this leaves us with some 337 time steps. \n",
    "frames.shape"
   ]
  },
  {
   "cell_type": "code",
   "execution_count": null,
   "metadata": {},
   "outputs": [],
   "source": [
    "plt.imshow(frames[10, 0])"
   ]
  },
  {
   "cell_type": "code",
   "execution_count": null,
   "metadata": {},
   "outputs": [],
   "source": [
    "# now we feed the data to our network! Because my computer has little memory, I only feed 10 specific time steps\n",
    "with torch.no_grad():\n",
    "    output = net(frames[100:110].float())"
   ]
  },
  {
   "cell_type": "code",
   "execution_count": null,
   "metadata": {},
   "outputs": [],
   "source": [
    "output.shape"
   ]
  },
  {
   "cell_type": "code",
   "execution_count": null,
   "metadata": {},
   "outputs": [],
   "source": [
    "# in the end we can plot the \n",
    "\n",
    "fig, axes = plt.subplots(2, 4, figsize=(10, 5))\n",
    "\n",
    "for i in range(8):\n",
    "    if i < 4:\n",
    "        axes[0, i].imshow(output[0, i])\n",
    "    else:\n",
    "        axes[1, i-4].imshow(output[0, i])"
   ]
  },
  {
   "cell_type": "code",
   "execution_count": null,
   "metadata": {},
   "outputs": [],
   "source": []
  }
 ],
 "metadata": {
  "interpreter": {
   "hash": "b0d71d32d2b596f460291e0fcc4c5be95d741b16cf87a49532d3e8154ab3bc33"
  },
  "kernelspec": {
   "display_name": "Python 3.9.12 ('synsense')",
   "language": "python",
   "name": "python3"
  },
  "language_info": {
   "codemirror_mode": {
    "name": "ipython",
    "version": 3
   },
   "file_extension": ".py",
   "mimetype": "text/x-python",
   "name": "python",
   "nbconvert_exporter": "python",
   "pygments_lexer": "ipython3",
   "version": "3.9.12"
  },
  "orig_nbformat": 4
 },
 "nbformat": 4,
 "nbformat_minor": 2
}
